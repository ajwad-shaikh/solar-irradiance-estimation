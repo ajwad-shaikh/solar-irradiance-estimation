{
 "cells": [
  {
   "cell_type": "markdown",
   "metadata": {},
   "source": [
    "# Estimation of solar irradiance using ground-based whole sky imagers"
   ]
  },
  {
   "cell_type": "markdown",
   "metadata": {},
   "source": [
    "## Few important points to note before running codes in this iPython notebook\n",
    "\n",
    "### (a) Please check the format of the weather station data (might differ from the given format) <br />(b) Few files are pre-computed and used here directly (for ease of computation)."
   ]
  },
  {
   "cell_type": "markdown",
   "metadata": {},
   "source": [
    "### Import all images for luminance computation"
   ]
  },
  {
   "cell_type": "code",
   "execution_count": 1,
   "metadata": {
    "collapsed": true
   },
   "outputs": [],
   "source": [
    "# Library to index all images in the directory.\n",
    "import os\n",
    "from glob import glob\n",
    "\n",
    "\n",
    "# All file locations are stored here\n",
    "global_files = []\n",
    "\n",
    "\n",
    "# This is the complete path where our sky images are located. \n",
    "# <Please replace it with appropriate file location>\n",
    "start_dir = '/media/soumya/SeagateBackupPlusDrive/sky_images/2015/12/' \n",
    "\n",
    "\n",
    "# Check for all JPG images in this path\n",
    "pattern  = \"*.jpg\"\n",
    "for direc,_,_ in os.walk(start_dir):\n",
    "    global_files.extend(glob(os.path.join(direc,pattern)))\n",
    "    \n",
    "\n",
    "# Check for LDR image patterns in this list\n",
    "pattern1  = \"low.jpg\"\n",
    "pattern2  = \"med.jpg\"\n",
    "pattern3  = \"high.jpg\"\n",
    "\n",
    "\n",
    "# For final computation, we only select LDR images and low-exposure image (when captured in HDR mode)\n",
    "files_low = []\n",
    "files_single = []\n",
    "\n",
    "for particular_file in global_files:\n",
    "    if pattern1 in particular_file:\n",
    "        files_low.append(particular_file)\n",
    "\n",
    "    if (pattern1 not in particular_file) and (pattern2 not in particular_file) and (pattern3 not in particular_file):\n",
    "        files_single.append(particular_file)\n",
    "\n",
    "        \n",
    "# The variable \"selected_files\" contains LDR images and low-exposure image (when captured in HDR mode)\n",
    "selected_files = files_low\n",
    "selected_files.extend(files_single)\n",
    "selected_files = sorted(selected_files)"
   ]
  },
  {
   "cell_type": "markdown",
   "metadata": {},
   "source": [
    "### Import all libraries"
   ]
  },
  {
   "cell_type": "code",
   "execution_count": 2,
   "metadata": {
    "collapsed": false
   },
   "outputs": [],
   "source": [
    "# Import all libraries\n",
    "\n",
    "import sys\n",
    "sys.path.insert(0, './helperScripts/')\n",
    "\n",
    "import cv2\n",
    "import matplotlib\n",
    "import numpy as np\n",
    "import matplotlib.pyplot as plt\n",
    "%matplotlib inline\n",
    "import csv\n",
    "import exifread\n",
    "import pytz\n",
    "from matplotlib.dates import DateFormatter\n",
    "\n",
    "\n",
    "# User defined functions\n",
    "from normalize_array import *\n",
    "from CalculateLuminance import *  \n",
    "from sun_positions_day_files import *\n",
    "from import_WS import *\n",
    "from import_WS_CI import *\n",
    "from nearest import *\n",
    "from SG_solarmodel import *"
   ]
  },
  {
   "cell_type": "markdown",
   "metadata": {},
   "source": [
    "### Find unique dates in the list of images"
   ]
  },
  {
   "cell_type": "code",
   "execution_count": 3,
   "metadata": {
    "collapsed": false,
    "tags": []
   },
   "outputs": [
    {
     "output_type": "stream",
     "name": "stdout",
     "text": "Unique dates are  ['2015-12-01', '2015-12-02', '2015-12-03', '2015-12-04', '2015-12-05', '2015-12-06', '2015-12-07', '2015-12-08', '2015-12-09', '2015-12-10', '2015-12-11', '2015-12-12', '2015-12-13', '2015-12-14', '2015-12-15', '2015-12-16', '2015-12-17', '2015-12-18', '2015-12-19', '2015-12-20', '2015-12-21', '2015-12-22', '2015-12-23', '2015-12-24', '2015-12-25']\nThe missing dates are because of the outage of the sky camera\n"
    }
   ],
   "source": [
    "date_list = []\n",
    "\n",
    "for i,_ in enumerate(selected_files):\n",
    "    image_path = selected_files[i]\n",
    "    path_components = image_path.split(\"/\")\n",
    "    image_name = path_components[len(path_components)-1]\n",
    "    image_date = image_name[0:10] \n",
    "    date_list.append(image_date)\n",
    "\n",
    "unik_dates = list(set(date_list))\n",
    "unik_dates = sorted(unik_dates)\n",
    "unik_dates = ['2015-12-01', '2015-12-02', '2015-12-03', '2015-12-04', '2015-12-05', '2015-12-06', '2015-12-07', '2015-12-08', '2015-12-09', '2015-12-10', '2015-12-11', '2015-12-12', '2015-12-13', '2015-12-14', '2015-12-15', '2015-12-16', '2015-12-17', '2015-12-18', '2015-12-19', '2015-12-20', '2015-12-21', '2015-12-22', '2015-12-23', '2015-12-24', '2015-12-25']\n",
    "\n",
    "print ('Unique dates are ', unik_dates)\n",
    "\n",
    "print ('The missing dates are because of the outage of the sky camera')"
   ]
  },
  {
   "cell_type": "code",
   "execution_count": 4,
   "metadata": {
    "collapsed": false,
    "tags": []
   },
   "outputs": [],
   "source": [
    "CSV_file = './weatherData/Dec2015.csv'\n",
    "(daterange,datetime_range,solar_range,clearsky_range,clearnessindex_range,rainfall_range) = import_WS_CI(CSV_file)\n",
    "(time_range,solar_range) = import_WS(CSV_file)"
   ]
  },
  {
   "cell_type": "markdown",
   "metadata": {},
   "source": [
    "### Indexing a particular date from datetime objects"
   ]
  },
  {
   "cell_type": "code",
   "execution_count": 5,
   "metadata": {
    "collapsed": false,
    "tags": []
   },
   "outputs": [
    {
     "output_type": "stream",
     "name": "stdout",
     "text": "2015-12-07\n"
    }
   ],
   "source": [
    "date_strings = [dt.strftime(\"%Y-%m-%d\") for dt in daterange]\n",
    "oneFineDate = unik_dates[6]\n",
    "print (oneFineDate)\n",
    "\n",
    "findPosition = np.where(np.array(date_strings)==oneFineDate)\n",
    "findPosition = findPosition[0]"
   ]
  },
  {
   "cell_type": "markdown",
   "metadata": {},
   "source": [
    "### Observation for a sample day"
   ]
  },
  {
   "cell_type": "code",
   "execution_count": 7,
   "metadata": {
    "collapsed": false,
    "scrolled": false
   },
   "outputs": [
    {
     "output_type": "error",
     "ename": "TypeError",
     "evalue": "can't compare offset-naive and offset-aware datetimes",
     "traceback": [
      "\u001b[1;31m---------------------------------------------------------------------------\u001b[0m",
      "\u001b[1;31mTypeError\u001b[0m                                 Traceback (most recent call last)",
      "\u001b[1;32m<ipython-input-7-5ef4c0861780>\u001b[0m in \u001b[0;36m<module>\u001b[1;34m\u001b[0m\n\u001b[0;32m     20\u001b[0m \u001b[0mtimeXAxis\u001b[0m \u001b[1;33m=\u001b[0m \u001b[1;33m[\u001b[0m\u001b[1;33m]\u001b[0m\u001b[1;33m\u001b[0m\u001b[1;33m\u001b[0m\u001b[0m\n\u001b[0;32m     21\u001b[0m \u001b[1;32mfor\u001b[0m \u001b[0mi\u001b[0m\u001b[1;33m,\u001b[0m\u001b[0mitem\u001b[0m \u001b[1;32min\u001b[0m \u001b[0menumerate\u001b[0m\u001b[1;33m(\u001b[0m\u001b[0mday_datetime\u001b[0m\u001b[1;33m)\u001b[0m\u001b[1;33m:\u001b[0m\u001b[1;33m\u001b[0m\u001b[1;33m\u001b[0m\u001b[0m\n\u001b[1;32m---> 22\u001b[1;33m     \u001b[1;32mif\u001b[0m \u001b[0mitem\u001b[0m \u001b[1;33m>\u001b[0m \u001b[0mstart_time\u001b[0m \u001b[1;32mand\u001b[0m \u001b[0mitem\u001b[0m\u001b[1;33m<\u001b[0m\u001b[0mend_time\u001b[0m\u001b[1;33m:\u001b[0m\u001b[1;33m\u001b[0m\u001b[1;33m\u001b[0m\u001b[0m\n\u001b[0m\u001b[0;32m     23\u001b[0m         \u001b[0mmeasSolar\u001b[0m\u001b[1;33m.\u001b[0m\u001b[0mappend\u001b[0m\u001b[1;33m(\u001b[0m\u001b[0mday_solarrad\u001b[0m\u001b[1;33m[\u001b[0m\u001b[0mi\u001b[0m\u001b[1;33m]\u001b[0m\u001b[1;33m)\u001b[0m\u001b[1;33m\u001b[0m\u001b[1;33m\u001b[0m\u001b[0m\n\u001b[0;32m     24\u001b[0m         \u001b[0mcsSolar\u001b[0m\u001b[1;33m.\u001b[0m\u001b[0mappend\u001b[0m\u001b[1;33m(\u001b[0m\u001b[0mday_CSR\u001b[0m\u001b[1;33m[\u001b[0m\u001b[0mi\u001b[0m\u001b[1;33m]\u001b[0m\u001b[1;33m)\u001b[0m\u001b[1;33m\u001b[0m\u001b[1;33m\u001b[0m\u001b[0m\n",
      "\u001b[1;31mTypeError\u001b[0m: can't compare offset-naive and offset-aware datetimes"
     ]
    }
   ],
   "source": [
    "day_datetime = list(datetime_range[i] for i in findPosition )\n",
    "day_clearnessindex = list( clearnessindex_range[i] for i in findPosition )\n",
    "day_rain = list( rainfall_range[i] for i in findPosition )\n",
    "day_solarrad = list( solar_range[i] for i in findPosition )    \n",
    "day_CSR = list( clearsky_range[i] for i in findPosition )\n",
    "\n",
    "\n",
    "# Difference solar radiation\n",
    "day_diffindex = [1-x for x in day_clearnessindex]\n",
    "match_string = str(oneFineDate)\n",
    "\n",
    "TZ = pytz.timezone('Asia/Calcutta')\n",
    "# We consider from 7:00 Hours to 20:00 Hours\n",
    "start_time = datetime.datetime(2015,12,7,7,0,0, tzinfo=TZ)\n",
    "end_time = datetime.datetime(2015,12,7,20,0,0, tzinfo=TZ)\n",
    "\n",
    "\n",
    "measSolar = []\n",
    "csSolar = []\n",
    "timeXAxis = []\n",
    "for i,item in enumerate(day_datetime):\n",
    "    if item > start_time and item<end_time:\n",
    "        measSolar.append(day_solarrad[i])\n",
    "        csSolar.append(day_CSR[i])\n",
    "        sw = datetime.datetime(item.year,item.month,item.day,item.hour,item.minute,item.second)\n",
    "        timeXAxis.append(sw)\n",
    "        \n",
    "measSolar = np.array(measSolar)\n",
    "csSolar = np.array(csSolar)\n",
    "        \n",
    "\n",
    "figure_number = 1 \n",
    "fig = plt.figure(figure_number , figsize=(5.5, 3.3))\n",
    "plt.plot(timeXAxis, csSolar, 'k' , label='Clear sky radiation') \n",
    "plt.plot(timeXAxis, measSolar, 'r' , label='Measured solar radiation') \n",
    "plt.xlabel('Time of the day', fontsize=14)\n",
    "plt.ylabel(r'Solar radiation [W/m$^2$]', fontsize=14)  \n",
    "plt.title(match_string)\n",
    "plt.legend(loc='upper right')\n",
    "plt.grid(b=None, which='major', axis='both')\n",
    "plt.ylim((0,1550))\n",
    "fig.autofmt_xdate()\n",
    "formatter = DateFormatter('%H:%M')\n",
    "plt.gcf().axes[0].xaxis.set_major_formatter(formatter) \n",
    "plt.savefig('./outputFiles/Figure1.pdf', format='pdf')\n"
   ]
  },
  {
   "cell_type": "markdown",
   "metadata": {},
   "source": [
    "### Computes the luminance of all the images at different time-stamps consecutively. \n",
    "\n",
    "We consider the dimension of the cropped image as 300 X 300 (more details on this *optimum* crop size later in this notebook). This cropped image is considered around the circum-solar region. All images between 7 hours and 19 hours are considered.\n",
    "\n",
    "In some cases, the sun is obscured from view because of the clouds. We neglect those days from computation."
   ]
  },
  {
   "cell_type": "markdown",
   "metadata": {},
   "source": [
    "### *Following section is already pre-computed and the results are saved in the repository *"
   ]
  },
  {
   "cell_type": "code",
   "execution_count": 7,
   "metadata": {
    "collapsed": false,
    "scrolled": false,
    "tags": []
   },
   "outputs": [
    {
     "output_type": "stream",
     "name": "stdout",
     "text": "--------------------------------------------\nComputing for  2015-12-01\nNumber of images added between 7 am and 7 pm =  0\nSkipping for  2015-12-01  because sun could not be located.\nLuminance .TXT file not generated.\n--------------------------------------------\nComputing for  2015-12-02\nNumber of images added between 7 am and 7 pm =  0\nSkipping for  2015-12-02  because sun could not be located.\nLuminance .TXT file not generated.\n--------------------------------------------\nComputing for  2015-12-03\nNumber of images added between 7 am and 7 pm =  0\nSkipping for  2015-12-03  because sun could not be located.\nLuminance .TXT file not generated.\n--------------------------------------------\nComputing for  2015-12-04\nNumber of images added between 7 am and 7 pm =  0\nSkipping for  2015-12-04  because sun could not be located.\nLuminance .TXT file not generated.\n--------------------------------------------\nComputing for  2015-12-05\nNumber of images added between 7 am and 7 pm =  0\nSkipping for  2015-12-05  because sun could not be located.\nLuminance .TXT file not generated.\n--------------------------------------------\nComputing for  2015-12-06\nNumber of images added between 7 am and 7 pm =  0\nSkipping for  2015-12-06  because sun could not be located.\nLuminance .TXT file not generated.\n--------------------------------------------\nComputing for  2015-12-07\nNumber of images added between 7 am and 7 pm =  0\nSkipping for  2015-12-07  because sun could not be located.\nLuminance .TXT file not generated.\n--------------------------------------------\nComputing for  2015-12-08\nNumber of images added between 7 am and 7 pm =  0\nSkipping for  2015-12-08  because sun could not be located.\nLuminance .TXT file not generated.\n--------------------------------------------\nComputing for  2015-12-09\nNumber of images added between 7 am and 7 pm =  0\nSkipping for  2015-12-09  because sun could not be located.\nLuminance .TXT file not generated.\n--------------------------------------------\nComputing for  2015-12-10\nNumber of images added between 7 am and 7 pm =  0\nSkipping for  2015-12-10  because sun could not be located.\nLuminance .TXT file not generated.\n--------------------------------------------\nComputing for  2015-12-11\nNumber of images added between 7 am and 7 pm =  0\nSkipping for  2015-12-11  because sun could not be located.\nLuminance .TXT file not generated.\n--------------------------------------------\nComputing for  2015-12-12\nNumber of images added between 7 am and 7 pm =  0\nSkipping for  2015-12-12  because sun could not be located.\nLuminance .TXT file not generated.\n--------------------------------------------\nComputing for  2015-12-13\nNumber of images added between 7 am and 7 pm =  0\nSkipping for  2015-12-13  because sun could not be located.\nLuminance .TXT file not generated.\n--------------------------------------------\nComputing for  2015-12-14\nNumber of images added between 7 am and 7 pm =  0\nSkipping for  2015-12-14  because sun could not be located.\nLuminance .TXT file not generated.\n--------------------------------------------\nComputing for  2015-12-15\nNumber of images added between 7 am and 7 pm =  0\nSkipping for  2015-12-15  because sun could not be located.\nLuminance .TXT file not generated.\n--------------------------------------------\nComputing for  2015-12-16\nNumber of images added between 7 am and 7 pm =  0\nSkipping for  2015-12-16  because sun could not be located.\nLuminance .TXT file not generated.\n--------------------------------------------\nComputing for  2015-12-17\nNumber of images added between 7 am and 7 pm =  0\nSkipping for  2015-12-17  because sun could not be located.\nLuminance .TXT file not generated.\n--------------------------------------------\nComputing for  2015-12-18\nNumber of images added between 7 am and 7 pm =  0\nSkipping for  2015-12-18  because sun could not be located.\nLuminance .TXT file not generated.\n--------------------------------------------\nComputing for  2015-12-19\nNumber of images added between 7 am and 7 pm =  0\nSkipping for  2015-12-19  because sun could not be located.\nLuminance .TXT file not generated.\n--------------------------------------------\nComputing for  2015-12-20\nNumber of images added between 7 am and 7 pm =  0\nSkipping for  2015-12-20  because sun could not be located.\nLuminance .TXT file not generated.\n--------------------------------------------\nComputing for  2015-12-21\nNumber of images added between 7 am and 7 pm =  0\nSkipping for  2015-12-21  because sun could not be located.\nLuminance .TXT file not generated.\n--------------------------------------------\nComputing for  2015-12-22\nNumber of images added between 7 am and 7 pm =  0\nSkipping for  2015-12-22  because sun could not be located.\nLuminance .TXT file not generated.\n--------------------------------------------\nComputing for  2015-12-23\nNumber of images added between 7 am and 7 pm =  0\nSkipping for  2015-12-23  because sun could not be located.\nLuminance .TXT file not generated.\n--------------------------------------------\nComputing for  2015-12-24\nNumber of images added between 7 am and 7 pm =  0\nSkipping for  2015-12-24  because sun could not be located.\nLuminance .TXT file not generated.\n--------------------------------------------\nComputing for  2015-12-25\nNumber of images added between 7 am and 7 pm =  0\nSkipping for  2015-12-25  because sun could not be located.\nLuminance .TXT file not generated.\nAll file are generated\n"
    }
   ],
   "source": [
    "# We consider 300 X 300 for optimal result.\n",
    "crop_dim = 300\n",
    "\n",
    "\n",
    "# Combined file name\n",
    "comb_file_name = './preComputed/combined/Dec2015' +'.txt'\n",
    "comb_text_file = open(comb_file_name, \"w\")\n",
    "comb_text_file.write(\"Sl_No, Date, Time, Sun-X, Sun-Y, Luminance \\n\")  \n",
    "    \n",
    "    \n",
    "    \n",
    "# Estimating luminance from images\n",
    "for dt,date_now in enumerate(unik_dates):\n",
    "    \n",
    "\n",
    "    print ('--------------------------------------------')\n",
    "    # Found is the list of files for a single day\n",
    "    found = []\n",
    "    for particular_file in selected_files:\n",
    "        if date_now in particular_file:\n",
    "            found.append(particular_file)\n",
    "            \n",
    "    \n",
    "\n",
    "    # And now calculating for a single Day\n",
    "    # Extracting information from the string\n",
    "    YY = date_now[0:4]\n",
    "    MON = date_now[5:7]\n",
    "    DD = date_now[8:10]    \n",
    "    sYY = str(YY)\n",
    "    sMON = str(MON)\n",
    "    sDD = str(DD)\n",
    "    if len(MON)==1:\n",
    "        sMON = str(0)+MON\n",
    "    if len(DD)==1:\n",
    "        sDD = str(0)+DD\n",
    "    match_string = sYY + '-' + sMON + '-' + sDD\n",
    "    print ('Computing for ',match_string)\n",
    "    \n",
    "    \n",
    "\n",
    "    # The output \"select_images\" contain those images between 7 hours and 19 hours.\n",
    "    (sun_x_list, sun_y_list,select_images) = sun_positions_day_files(YY,MON,DD,found)\n",
    "    \n",
    "    \n",
    "    # In case, sun is obscured throughout the day, we neglect that particular day.\n",
    "    if (len(sun_x_list)==0 or len(sun_y_list)==0):\n",
    "        print ('Skipping for ',match_string, ' because sun could not be located.')\n",
    "        print ('Luminance .TXT file not generated.')\n",
    "        continue\n",
    "        \n",
    "        \n",
    "        \n",
    "    # We generate individual .TXT files comprising the luminance values of images at different hours of a single day.\n",
    "    file_name = './preComputed/calculatedLuminanceFiles/luminance-' + match_string +'.txt'\n",
    "    text_file = open(file_name, \"w\")\n",
    "    \n",
    "\n",
    "    # Header line of generated .TXT file.\n",
    "    text_file.write(\"Sl_No, Date, Time, Sun-X, Sun-Y, Luminance \\n\")     \n",
    "\n",
    "\n",
    "    # Calculation of luminance for all images in a single day.\n",
    "    for i,low_LDR_path in enumerate(select_images):\n",
    "\n",
    "        sun_x = sun_x_list[i]\n",
    "        sun_y = sun_y_list[i]\n",
    "        LDR_path = low_LDR_path\n",
    "        (date,time,LDRLuminance) = LuminanceSquareCrop(LDR_path,sun_x,sun_y,crop_dim)\n",
    "        text_file.write(\"%s,%s,%s,%s,%s,%s\\n\" %(i,date,time,sun_x,sun_y,LDRLuminance))        \n",
    "        \n",
    "        \n",
    "        # Writing in the combined text file\n",
    "        comb_text_file.write(\"%s,%s,%s,%s,%s,%s\\n\" %(i,date,time,sun_x,sun_y,LDRLuminance))\n",
    "\n",
    "\n",
    "    text_file.close() \n",
    "    print ('Calculating luminance completed for ',match_string)\n",
    "    \n",
    "    \n",
    "print ('All file are generated')    \n",
    "comb_text_file.close() "
   ]
  },
  {
   "cell_type": "markdown",
   "metadata": {},
   "source": [
    "### Listing all the luminance .TXT files "
   ]
  },
  {
   "cell_type": "code",
   "execution_count": 24,
   "metadata": {
    "collapsed": false,
    "tags": []
   },
   "outputs": [
    {
     "output_type": "stream",
     "name": "stdout",
     "text": "['luminance-2015-12-02.txt', 'luminance-2015-12-03.txt', 'luminance-2015-12-04.txt', 'luminance-2015-12-05.txt', 'luminance-2015-12-06.txt', 'luminance-2015-12-07.txt', 'luminance-2015-12-08.txt', 'luminance-2015-12-09.txt', 'luminance-2015-12-10.txt', 'luminance-2015-12-11.txt', 'luminance-2015-12-12.txt', 'luminance-2015-12-13.txt', 'luminance-2015-12-19.txt']\n"
    }
   ],
   "source": [
    "import os\n",
    "from glob import glob\n",
    "start_dir = './preComputed/calculatedLuminanceFiles/' # December\n",
    "dirs = os.listdir( start_dir)\n",
    "\n",
    "luminance_files = []\n",
    "for text_file in dirs:\n",
    "    if '.txt' in text_file:\n",
    "        luminance_files.append(text_file)\n",
    "\n",
    "luminance_files = sorted(luminance_files)        \n",
    "print (luminance_files)"
   ]
  },
  {
   "cell_type": "markdown",
   "metadata": {},
   "source": [
    "### Correlation for individual days of the month."
   ]
  },
  {
   "cell_type": "code",
   "execution_count": 25,
   "metadata": {
    "collapsed": false,
    "scrolled": false,
    "tags": []
   },
   "outputs": [
    {
     "output_type": "stream",
     "name": "stdout",
     "text": "---------------------------------\nComputing correlation for  2015-12-2\n"
    },
    {
     "output_type": "error",
     "ename": "NameError",
     "evalue": "name 'time_range' is not defined",
     "traceback": [
      "\u001b[1;31m---------------------------------------------------------------------------\u001b[0m",
      "\u001b[1;31mNameError\u001b[0m                                 Traceback (most recent call last)",
      "\u001b[1;32m<ipython-input-25-e6666c29db7e>\u001b[0m in \u001b[0;36m<module>\u001b[1;34m\u001b[0m\n\u001b[0;32m     62\u001b[0m \u001b[1;33m\u001b[0m\u001b[0m\n\u001b[0;32m     63\u001b[0m     \u001b[1;31m# Pick the Weather Station data corresponding to image\u001b[0m\u001b[1;33m\u001b[0m\u001b[1;33m\u001b[0m\u001b[1;33m\u001b[0m\u001b[0m\n\u001b[1;32m---> 64\u001b[1;33m     \u001b[0mWS_timestamp\u001b[0m \u001b[1;33m=\u001b[0m \u001b[0mtime_range\u001b[0m\u001b[1;33m\u001b[0m\u001b[1;33m\u001b[0m\u001b[0m\n\u001b[0m\u001b[0;32m     65\u001b[0m     \u001b[0mWS_solar_rad\u001b[0m \u001b[1;33m=\u001b[0m \u001b[0msolar_range\u001b[0m\u001b[1;33m\u001b[0m\u001b[1;33m\u001b[0m\u001b[0m\n\u001b[0;32m     66\u001b[0m     \u001b[0mimage_timestamp\u001b[0m \u001b[1;33m=\u001b[0m \u001b[0mtime_datapoints\u001b[0m\u001b[1;33m\u001b[0m\u001b[1;33m\u001b[0m\u001b[0m\n",
      "\u001b[1;31mNameError\u001b[0m: name 'time_range' is not defined"
     ]
    }
   ],
   "source": [
    "comb_file_name = './preComputed/combined/Dec2015.txt'\n",
    "comb_file = open(comb_file_name, \"w\")\n",
    "comb_file.write(\"Date, Time, Luminance, SolarRadiation, ClearSkyRadiation \\n\") \n",
    "\n",
    "figure_number = 0\n",
    "\n",
    "Luminance_array = []\n",
    "Solar_array = []\n",
    "Luminance_array_OV = []\n",
    "Solar_array_OV = []\n",
    "\n",
    "\n",
    "for graph_number, lumi_file in enumerate(luminance_files):\n",
    "    \n",
    "    print ('---------------------------------')\n",
    "    \n",
    "    \n",
    "    # ### Read the LDR generated data\n",
    "    lumi_file = start_dir + lumi_file\n",
    "\n",
    "    \n",
    "    # read the finalised HDR file\n",
    "    with open(lumi_file) as f: #f is a file header\n",
    "        reader = csv.reader(f, delimiter=\",\")\n",
    "        d = list(reader) # d is a list of list here.\n",
    "        total_rows = len(d)\n",
    "\n",
    "    img_date = []\n",
    "    img_time = []\n",
    "    img_luminance = np.zeros(total_rows-1)\n",
    "    \n",
    "    # variable i starts from 1 so that header is skipped\n",
    "    for i in range(1,total_rows):\n",
    "        date_item = d[i][1]\n",
    "        time_item = d[i][2]\n",
    "        unitylumi_item = d[i][5]\n",
    "        img_date.append(date_item)\n",
    "        img_time.append(time_item)\n",
    "        img_luminance[i-1] = unitylumi_item\n",
    "\n",
    "\n",
    "\n",
    "    # This is for plotting dates in X-axis\n",
    "    time_datapoints = []\n",
    "\n",
    "\n",
    "    for i in range(0,len(img_date)):\n",
    "        YY = int(img_date[i][0:4])\n",
    "        MON = int(img_date[i][5:7])\n",
    "        DD = int(img_date[i][8:10])\n",
    "        HH = int(img_time[i][0:2])\n",
    "        MM = int(img_time[i][3:5])\n",
    "        SS = int(img_time[i][6:8])\n",
    "\n",
    "        sw = datetime.datetime(YY,MON,DD,HH,MM,SS)\n",
    "        time_datapoints.append(sw)\n",
    "\n",
    "   \n",
    "    match_string = str(YY) + '-' + str(MON) + '-' + str(DD)\n",
    "    print ('Computing correlation for ',match_string)\n",
    "    \n",
    "    \n",
    "    # Pick the Weather Station data corresponding to image\n",
    "    WS_timestamp = time_range\n",
    "    WS_solar_rad = solar_range\n",
    "    image_timestamp = time_datapoints\n",
    "    \n",
    "\n",
    "    common_timestamps = []\n",
    "    WS_datapoints = []\n",
    "    img_datapoints = []\n",
    "    \n",
    "\n",
    "    # Check wrt to image datapoints.\n",
    "    for i,check_time in enumerate(image_timestamp):\n",
    "    \n",
    "        (time_found,diff_ts) = nearest(check_time,WS_timestamp)\n",
    "        #print ('Check time is ',check_time,'and found time is ',time_found, 'Difference = ' , diff_ts)\n",
    "    \n",
    "        if np.abs(diff_ts)<10:\n",
    "        \n",
    "            common_timestamps.append(check_time)\n",
    "            img_datapoints.append(img_luminance[i])\n",
    "        \n",
    "            # Check the corresponding index of WS data\n",
    "            i2 = WS_timestamp.index(time_found)\n",
    "            WS_datapoints.append(WS_solar_rad[i2])\n",
    "\n",
    "\n",
    "    if len(WS_datapoints)<50:\n",
    "        print ('Not enough weather station datapoints to perform computation')\n",
    "        print ('Correlation not computed for ',match_string)\n",
    "        continue\n",
    "\n",
    "\n",
    "    WS_dtp = np.zeros(len(WS_datapoints))\n",
    "    for i,qaz in enumerate(WS_datapoints):\n",
    "        WS_dtp[i] = float(qaz)    \n",
    "    \n",
    "   \n",
    "    \n",
    "    # Calculate the clear sky radiation\n",
    "    latitude = 1.3429943\n",
    "    longitude = 103.6810899\n",
    "    clear_sky_rad = []\n",
    "    for date_part in common_timestamps:\n",
    "\n",
    "        CSR = SG_model(date_part)\n",
    "        clear_sky_rad.append(CSR)\n",
    "        \n",
    "    clear_sky_rad = np.array(clear_sky_rad)\n",
    "    \n",
    "    MaxClearSky = np.max(clear_sky_rad[10:-10])\n",
    "    MinClearSky = np.min(clear_sky_rad[10:-10])\n",
    "    MinWS = np.min(WS_dtp[10:-10])\n",
    "    MaxWS = np.max(WS_dtp[10:-10])\n",
    "    MinSolar = np.min([MaxClearSky , MinWS])\n",
    "    MaxSolar = np.min([MaxClearSky , MaxWS])\n",
    "    \n",
    "    \n",
    "   \n",
    "    img_datapoints = np.asarray(img_datapoints)\n",
    "    WS_dtp = np.asarray(WS_dtp)   \n",
    "    \n",
    "\n",
    "    x_vect = normalize_array(img_datapoints[10:-10])\n",
    "    y_vect = normalize_array(WS_dtp[10:-10])\n",
    "    z_vect = normalize_array(clear_sky_rad[10:-10])\n",
    "    time_vect = common_timestamps[10:-10]\n",
    "    \n",
    "    \n",
    "    x_vectORG = img_datapoints[10:-10]\n",
    "    y_vectORG = WS_dtp[10:-10]\n",
    "    z_vectORG = clear_sky_rad[10:-10]\n",
    "    \n",
    "    \n",
    "    # Different normalization technique\n",
    "    normCSR = normalize_arrayWRT(clear_sky_rad[10:-10] , MinSolar, MaxSolar)\n",
    "    normLuminance = normalize_array(img_datapoints[10:-10])\n",
    "    normWS = normalize_arrayWRT(WS_dtp[10:-10], MinSolar , MaxSolar) \n",
    "    \n",
    "    \n",
    "    # Current normalization technique\n",
    "    # Done wrt to clear sky model\n",
    "    figure_number = figure_number + 1\n",
    "    fig = plt.figure(figure_number , figsize=(10, 4))\n",
    "    plt.plot(time_vect, normLuminance, 'b', label='Luminance from sky camera')\n",
    "    plt.plot(time_vect, normWS, 'r', label='Weather Station data')\n",
    "    plt.plot(time_vect, normCSR, 'k', label='Clear Sky Model')\n",
    "    plt.xlabel('Time of the day', fontsize=14)\n",
    "    plt.ylabel('Normalized value', fontsize=14)\n",
    "    plt.title(match_string, fontsize=14)\n",
    "    plt.legend(loc='upper right')\n",
    "    fig.autofmt_xdate()\n",
    "    plt.grid(b=None, which='major', axis='both')\n",
    "    formatter = DateFormatter('%H:%M')\n",
    "    plt.gcf().axes[0].xaxis.set_major_formatter(formatter)\n",
    "    #plt.savefig('./outputFiles/Figure3.pdf', format='pdf')\n",
    "    \n",
    "    \n",
    "    # Update the text file\n",
    "    for i , onetime in enumerate(time_vect):\n",
    "        YearHere = onetime.year\n",
    "        MonthHere = onetime.month\n",
    "        DayHere = onetime.day\n",
    "        \n",
    "        YY = str(YY)\n",
    "        MON = str(MON)\n",
    "        DD = str(DD)\n",
    "        if len(MON)==1:\n",
    "            MON = str(0)+MON\n",
    "        if len(DD)==1:\n",
    "            DD = str(0)+DD\n",
    "        date_string = YY + '-' + MON + '-' + DD\n",
    "        \n",
    "        HourHere = onetime.hour\n",
    "        MinHere = onetime.minute\n",
    "        SecHere = onetime.second\n",
    "        HH = str(HourHere)\n",
    "        MINT = str(MinHere)\n",
    "        SEC = str(SecHere)        \n",
    "        if len(HH)==1:\n",
    "            HH = str(0)+HH\n",
    "        if len(MINT)==1:\n",
    "            MINT = str(0)+MINT\n",
    "        if len(SEC)==1:\n",
    "            SEC = str(0)+SEC            \n",
    "        time_string = HH + '-' + MINT + '-' + SEC        \n",
    "        \n",
    "        \n",
    "        comb_file.write(\"%s,%s,%s,%s,%s\\n\" %(date_string, time_string, x_vectORG[i] , y_vectORG[i] , z_vectORG[i]))\n",
    "    \n",
    "    \n",
    "    r = np.corrcoef(normLuminance, normWS)\n",
    "    print ('Correlation = ', r[0][1])\n",
    "    \n",
    "    \n",
    "    \n",
    "    # Append the data for scatter plot later\n",
    "    Luminance_array.append(normLuminance)\n",
    "    Solar_array.append(normWS)    \n",
    "    Luminance_array_OV.append(x_vectORG)\n",
    "    Solar_array_OV.append(y_vectORG)\n",
    "    \n",
    "    \n",
    "comb_file.close()     "
   ]
  },
  {
   "cell_type": "markdown",
   "metadata": {},
   "source": [
    "## Combined correlation for entire month"
   ]
  },
  {
   "cell_type": "code",
   "execution_count": 26,
   "metadata": {
    "collapsed": false
   },
   "outputs": [
    {
     "output_type": "error",
     "ename": "IndexError",
     "evalue": "index 0 is out of bounds for axis 0 with size 0",
     "traceback": [
      "\u001b[1;31m---------------------------------------------------------------------------\u001b[0m",
      "\u001b[1;31mIndexError\u001b[0m                                Traceback (most recent call last)",
      "\u001b[1;32m<ipython-input-26-e603007b0501>\u001b[0m in \u001b[0;36m<module>\u001b[1;34m\u001b[0m\n\u001b[0;32m      2\u001b[0m \u001b[1;33m\u001b[0m\u001b[0m\n\u001b[0;32m      3\u001b[0m \u001b[0mLuminance_array\u001b[0m \u001b[1;33m=\u001b[0m \u001b[0mnp\u001b[0m\u001b[1;33m.\u001b[0m\u001b[0marray\u001b[0m\u001b[1;33m(\u001b[0m\u001b[0mLuminance_array\u001b[0m\u001b[1;33m)\u001b[0m\u001b[1;33m\u001b[0m\u001b[1;33m\u001b[0m\u001b[0m\n\u001b[1;32m----> 4\u001b[1;33m \u001b[0mLA\u001b[0m \u001b[1;33m=\u001b[0m \u001b[0mLuminance_array\u001b[0m\u001b[1;33m[\u001b[0m\u001b[1;36m0\u001b[0m\u001b[1;33m]\u001b[0m\u001b[1;33m\u001b[0m\u001b[1;33m\u001b[0m\u001b[0m\n\u001b[0m\u001b[0;32m      5\u001b[0m \u001b[1;33m\u001b[0m\u001b[0m\n\u001b[0;32m      6\u001b[0m \u001b[0mSolar_array\u001b[0m \u001b[1;33m=\u001b[0m \u001b[0mnp\u001b[0m\u001b[1;33m.\u001b[0m\u001b[0marray\u001b[0m\u001b[1;33m(\u001b[0m\u001b[0mSolar_array\u001b[0m\u001b[1;33m)\u001b[0m\u001b[1;33m\u001b[0m\u001b[1;33m\u001b[0m\u001b[0m\n",
      "\u001b[1;31mIndexError\u001b[0m: index 0 is out of bounds for axis 0 with size 0"
     ]
    }
   ],
   "source": [
    "# Combined array needed for computation\n",
    "\n",
    "Luminance_array = np.array(Luminance_array)\n",
    "LA = Luminance_array[0]\n",
    "\n",
    "Solar_array = np.array(Solar_array)\n",
    "SA = Solar_array[0]\n",
    "\n",
    "\n",
    "Luminance_array_OV = np.array(Luminance_array_OV)\n",
    "LA_OV = Luminance_array_OV[0]\n",
    "Solar_array_OV = np.array(Solar_array_OV)\n",
    "SA_OV = Solar_array_OV[0]\n",
    "\n",
    "\n",
    "# Scatter plot for luminance & Solar Radiation\n",
    "plt.figure(10,figsize=(5, 4.5))\n",
    "plt.scatter(LA, SA, marker='o' , linewidths=0.01 , alpha = 0.8)\n",
    "plt.xlabel('Normalized Luminance from sky camera', fontsize=14)\n",
    "plt.ylabel('Normalized solar radiance', fontsize=14)\n",
    "plt.grid(b=None, which='major', axis='both')\n",
    "plt.xlim((0,1))\n",
    "plt.ylim((0,1))\n",
    "plt.savefig('./outputFiles/Figure5.pdf', format='pdf')\n",
    "r = np.corrcoef(LA, SA)\n",
    "print ('Correlation = ', r[0][1])"
   ]
  },
  {
   "cell_type": "markdown",
   "metadata": {},
   "source": [
    "### Finding optimum crop dimension"
   ]
  },
  {
   "cell_type": "code",
   "execution_count": 27,
   "metadata": {
    "collapsed": false
   },
   "outputs": [],
   "source": [
    "import os\n",
    "from glob import glob\n",
    "from findSelectedFiles import *\n",
    "\n",
    "# This is the complete path where our sky images are located. \n",
    "# <Please replace it with appropriate file location>\n",
    "start_dir = '/media/soumya/SeagateBackupPlusDrive/sky_images/2015/12/03/' #\n",
    "\n",
    "selected_files = findSelectedFiles(start_dir)"
   ]
  },
  {
   "cell_type": "markdown",
   "metadata": {},
   "source": [
    "### We calculate the optimum crop dimension based on a sample day"
   ]
  },
  {
   "cell_type": "code",
   "execution_count": 28,
   "metadata": {
    "collapsed": false,
    "tags": []
   },
   "outputs": [
    {
     "output_type": "stream",
     "name": "stdout",
     "text": "Unique dates are  []\n"
    }
   ],
   "source": [
    "# ### Finding unique dates in the folder\n",
    "\n",
    "date_list = []\n",
    "for i,_ in enumerate(selected_files):\n",
    "    image_path = selected_files[i]\n",
    "    path_components = image_path.split(\"/\")\n",
    "    image_name = path_components[len(path_components)-1]\n",
    "    image_date = image_name[0:10] \n",
    "    date_list.append(image_date)\n",
    "\n",
    "unik_dates = list(set(date_list))\n",
    "unik_dates = sorted(unik_dates)\n",
    "print ('Unique dates are ', unik_dates)"
   ]
  },
  {
   "cell_type": "markdown",
   "metadata": {},
   "source": [
    "### Iterating for various crop dimensions"
   ]
  },
  {
   "cell_type": "markdown",
   "metadata": {},
   "source": [
    "### *Following section is already pre-computed and the results are saved in the repository *"
   ]
  },
  {
   "cell_type": "code",
   "execution_count": 29,
   "metadata": {
    "collapsed": false,
    "scrolled": false
   },
   "outputs": [],
   "source": [
    "from findCorrelation import *\n",
    "\n",
    "file_name = './preComputed/sampleDayData/03Dec2015.txt'\n",
    "CropSizeImpact = open(file_name, \"w\")\n",
    "CropSizeImpact.write(\"Crop_Dimension, Corelation \\n\") \n",
    "\n",
    "crop_array = np.array(range(100,1250,50))\n",
    "\n",
    "\n",
    "for crop_dim in crop_array:\n",
    "\n",
    "    # ### Estimating LDR luminance for all dates (Main Execution)\n",
    "    for dt,date_now in enumerate(unik_dates):\n",
    "        print ('---------------------------------')\n",
    "        r = findCorrelation(crop_dim,dt,date_now,selected_files,unik_dates,time_range,solar_range)\n",
    "        print ('Correlation = ', r)\n",
    "        CropSizeImpact.write(\"%s,%s\\n\" %(crop_dim,r))\n",
    "\n",
    "CropSizeImpact.close()     "
   ]
  },
  {
   "cell_type": "markdown",
   "metadata": {},
   "source": [
    "### Crop size graph "
   ]
  },
  {
   "cell_type": "code",
   "execution_count": 30,
   "metadata": {
    "collapsed": false
   },
   "outputs": [
    {
     "output_type": "error",
     "ename": "ValueError",
     "evalue": "attempt to get argmax of an empty sequence",
     "traceback": [
      "\u001b[1;31m---------------------------------------------------------------------------\u001b[0m",
      "\u001b[1;31mValueError\u001b[0m                                Traceback (most recent call last)",
      "\u001b[1;32m<ipython-input-30-3c50a6bcfe26>\u001b[0m in \u001b[0;36m<module>\u001b[1;34m\u001b[0m\n\u001b[0;32m     29\u001b[0m \u001b[0mind\u001b[0m \u001b[1;33m=\u001b[0m \u001b[0mnp\u001b[0m\u001b[1;33m.\u001b[0m\u001b[0marange\u001b[0m\u001b[1;33m(\u001b[0m\u001b[0mlen\u001b[0m\u001b[1;33m(\u001b[0m\u001b[0mCorrVector\u001b[0m\u001b[1;33m)\u001b[0m\u001b[1;33m)\u001b[0m\u001b[1;33m\u001b[0m\u001b[1;33m\u001b[0m\u001b[0m\n\u001b[0;32m     30\u001b[0m \u001b[0mbarlist\u001b[0m \u001b[1;33m=\u001b[0m \u001b[0mplt\u001b[0m\u001b[1;33m.\u001b[0m\u001b[0mbar\u001b[0m\u001b[1;33m(\u001b[0m\u001b[0mind\u001b[0m\u001b[1;33m,\u001b[0m \u001b[0mCorrVector\u001b[0m\u001b[1;33m,\u001b[0m \u001b[0mwidth\u001b[0m\u001b[1;33m,\u001b[0m \u001b[0mlabel\u001b[0m\u001b[1;33m=\u001b[0m\u001b[1;34m'Correlation'\u001b[0m\u001b[1;33m,\u001b[0m \u001b[0malpha\u001b[0m\u001b[1;33m=\u001b[0m\u001b[1;36m0.85\u001b[0m\u001b[1;33m)\u001b[0m\u001b[1;33m\u001b[0m\u001b[1;33m\u001b[0m\u001b[0m\n\u001b[1;32m---> 31\u001b[1;33m \u001b[0mbarlist\u001b[0m\u001b[1;33m[\u001b[0m\u001b[0mnp\u001b[0m\u001b[1;33m.\u001b[0m\u001b[0margmax\u001b[0m\u001b[1;33m(\u001b[0m\u001b[0mCorrVector\u001b[0m\u001b[1;33m)\u001b[0m\u001b[1;33m]\u001b[0m\u001b[1;33m.\u001b[0m\u001b[0mset_color\u001b[0m\u001b[1;33m(\u001b[0m\u001b[1;34m'r'\u001b[0m\u001b[1;33m)\u001b[0m\u001b[1;33m\u001b[0m\u001b[1;33m\u001b[0m\u001b[0m\n\u001b[0m\u001b[0;32m     32\u001b[0m \u001b[0mplt\u001b[0m\u001b[1;33m.\u001b[0m\u001b[0mxticks\u001b[0m\u001b[1;33m(\u001b[0m\u001b[0mind\u001b[0m \u001b[1;33m+\u001b[0m \u001b[0mwidth\u001b[0m\u001b[1;33m/\u001b[0m\u001b[1;36m2\u001b[0m\u001b[1;33m,\u001b[0m \u001b[0mcrop_array\u001b[0m\u001b[1;33m)\u001b[0m\u001b[1;33m\u001b[0m\u001b[1;33m\u001b[0m\u001b[0m\n\u001b[0;32m     33\u001b[0m \u001b[1;31m#plt.title('Impact of image crop-size on correlation', fontsize=14)\u001b[0m\u001b[1;33m\u001b[0m\u001b[1;33m\u001b[0m\u001b[1;33m\u001b[0m\u001b[0m\n",
      "\u001b[1;32m<__array_function__ internals>\u001b[0m in \u001b[0;36margmax\u001b[1;34m(*args, **kwargs)\u001b[0m\n",
      "\u001b[1;32m~\\AppData\\Local\\Programs\\Python\\Python38\\lib\\site-packages\\numpy\\core\\fromnumeric.py\u001b[0m in \u001b[0;36margmax\u001b[1;34m(a, axis, out)\u001b[0m\n\u001b[0;32m   1184\u001b[0m \u001b[1;33m\u001b[0m\u001b[0m\n\u001b[0;32m   1185\u001b[0m     \"\"\"\n\u001b[1;32m-> 1186\u001b[1;33m     \u001b[1;32mreturn\u001b[0m \u001b[0m_wrapfunc\u001b[0m\u001b[1;33m(\u001b[0m\u001b[0ma\u001b[0m\u001b[1;33m,\u001b[0m \u001b[1;34m'argmax'\u001b[0m\u001b[1;33m,\u001b[0m \u001b[0maxis\u001b[0m\u001b[1;33m=\u001b[0m\u001b[0maxis\u001b[0m\u001b[1;33m,\u001b[0m \u001b[0mout\u001b[0m\u001b[1;33m=\u001b[0m\u001b[0mout\u001b[0m\u001b[1;33m)\u001b[0m\u001b[1;33m\u001b[0m\u001b[1;33m\u001b[0m\u001b[0m\n\u001b[0m\u001b[0;32m   1187\u001b[0m \u001b[1;33m\u001b[0m\u001b[0m\n\u001b[0;32m   1188\u001b[0m \u001b[1;33m\u001b[0m\u001b[0m\n",
      "\u001b[1;32m~\\AppData\\Local\\Programs\\Python\\Python38\\lib\\site-packages\\numpy\\core\\fromnumeric.py\u001b[0m in \u001b[0;36m_wrapfunc\u001b[1;34m(obj, method, *args, **kwds)\u001b[0m\n\u001b[0;32m     59\u001b[0m \u001b[1;33m\u001b[0m\u001b[0m\n\u001b[0;32m     60\u001b[0m     \u001b[1;32mtry\u001b[0m\u001b[1;33m:\u001b[0m\u001b[1;33m\u001b[0m\u001b[1;33m\u001b[0m\u001b[0m\n\u001b[1;32m---> 61\u001b[1;33m         \u001b[1;32mreturn\u001b[0m \u001b[0mbound\u001b[0m\u001b[1;33m(\u001b[0m\u001b[1;33m*\u001b[0m\u001b[0margs\u001b[0m\u001b[1;33m,\u001b[0m \u001b[1;33m**\u001b[0m\u001b[0mkwds\u001b[0m\u001b[1;33m)\u001b[0m\u001b[1;33m\u001b[0m\u001b[1;33m\u001b[0m\u001b[0m\n\u001b[0m\u001b[0;32m     62\u001b[0m     \u001b[1;32mexcept\u001b[0m \u001b[0mTypeError\u001b[0m\u001b[1;33m:\u001b[0m\u001b[1;33m\u001b[0m\u001b[1;33m\u001b[0m\u001b[0m\n\u001b[0;32m     63\u001b[0m         \u001b[1;31m# A TypeError occurs if the object does have such a method in its\u001b[0m\u001b[1;33m\u001b[0m\u001b[1;33m\u001b[0m\u001b[1;33m\u001b[0m\u001b[0m\n",
      "\u001b[1;31mValueError\u001b[0m: attempt to get argmax of an empty sequence"
     ]
    }
   ],
   "source": [
    "crop_array = np.array(range(100,1250,50))\n",
    "with open('./preComputed/sampleDayData/03Dec2015.txt') as f: #f is a file header\n",
    "    reader = csv.reader(f, delimiter=\",\")\n",
    "    d = list(reader) # d is a list of list here.\n",
    "\n",
    "    \n",
    "CropSize = []\n",
    "CorrVal = []\n",
    "for item in d[1:]:\n",
    "    CropSize.append(item[0])\n",
    "    CorrVal.append(item[1])\n",
    "\n",
    "\n",
    "SizeVector = np.zeros(len(CropSize)) \n",
    "CorrVector = np.zeros(len(CorrVal))  \n",
    "\n",
    "for i,value in enumerate(CropSize):\n",
    "    SizeVector[i] = int(value)\n",
    "\n",
    "for i,value in enumerate(CorrVal):\n",
    "    CorrVector[i] = float(value)\n",
    "\n",
    "SizeVector = SizeVector[0:14]\n",
    "CorrVector = CorrVector[0:14]\n",
    "\n",
    "\n",
    "plt.figure(1) \n",
    "width = .5\n",
    "ind = np.arange(len(CorrVector))\n",
    "barlist = plt.bar(ind, CorrVector, width, label='Correlation', alpha=0.85)\n",
    "barlist[np.argmax(CorrVector)].set_color('r')\n",
    "plt.xticks(ind + width/2, crop_array)\n",
    "#plt.title('Impact of image crop-size on correlation', fontsize=14)\n",
    "plt.xlabel('Length of cropped square image', fontsize=14)\n",
    "plt.ylabel('Correlation Coefficient', fontsize=14)\n",
    "plt.ylim((0.7,0.9))\n",
    "plt.xlim([0,ind.size])\n",
    "plt.grid(b=None, which='major', axis='both')\n",
    "plt.legend(loc='upper right')\n",
    "plt.savefig('./outputFiles/Figure4.pdf', format='pdf')"
   ]
  }
 ],
 "metadata": {
  "kernelspec": {
   "display_name": "Python 3",
   "language": "python",
   "name": "python3"
  },
  "language_info": {
   "codemirror_mode": {
    "name": "ipython",
    "version": 3
   },
   "file_extension": ".py",
   "mimetype": "text/x-python",
   "name": "python",
   "nbconvert_exporter": "python",
   "pygments_lexer": "ipython3",
   "version": "3.8.3-final"
  }
 },
 "nbformat": 4,
 "nbformat_minor": 0
}